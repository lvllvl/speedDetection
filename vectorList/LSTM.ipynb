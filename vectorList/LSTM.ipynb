{
 "cells": [
  {
   "cell_type": "code",
   "execution_count": 1,
   "metadata": {},
   "outputs": [],
   "source": [
    "%reload_ext autoreload\n",
    "%autoreload 2\n",
    "%matplotlib inline"
   ]
  },
  {
   "cell_type": "code",
   "execution_count": 2,
   "metadata": {},
   "outputs": [],
   "source": [
    "from fastai.vision import *\n",
    "from fastai.callbacks.hooks import *\n",
    "from fastai.utils.mem import *\n",
    "\n",
    "\n",
    "from PIL import Image\n",
    "from numpy import array\n",
    "import cv2\n",
    "from math import atan2\n",
    "import torch"
   ]
  },
  {
   "cell_type": "code",
   "execution_count": 3,
   "metadata": {},
   "outputs": [],
   "source": [
    "X = 0\n",
    "Y = 1\n",
    "\n",
    "fileNum = 1\n",
    "seg_layer = 0\n",
    "\n",
    "vector_num = 0\n",
    "vectors_array = []\n",
    "one_image = []"
   ]
  },
  {
   "cell_type": "markdown",
   "metadata": {},
   "source": [
    "# Vector Conversion: cartesian to polar"
   ]
  },
  {
   "cell_type": "code",
   "execution_count": 4,
   "metadata": {},
   "outputs": [
    {
     "name": "stdout",
     "output_type": "stream",
     "text": [
      "file no. :  1\n",
      "file no. :  2\n",
      "file no. :  3\n",
      "file no. :  4\n",
      "file no. :  5\n",
      "file no. :  6\n",
      "file no. :  7\n",
      "file no. :  8\n",
      "file no. :  9\n",
      "file no. :  10\n",
      "file no. :  11\n",
      "file no. :  12\n",
      "file no. :  13\n",
      "file no. :  14\n",
      "file no. :  15\n",
      "file no. :  16\n",
      "file no. :  17\n",
      "file no. :  18\n",
      "file no. :  19\n",
      "file no. :  20\n",
      "file no. :  21\n"
     ]
    }
   ],
   "source": [
    "# vectors[vector index][segmentation layer][x or y coordinate]\n",
    "\n",
    "\n",
    "# This loop controls the file number 1-21\n",
    "while fileNum < 22:\n",
    "    \n",
    "    vectors = np.load(f'vectorList{fileNum}.npy')\n",
    "    vect_length = len(vectors)\n",
    "    vect_index = 0\n",
    "    \n",
    "    # This loop controls which vector is being converted, ~998-1000 vectors per file\n",
    "    while vect_index < vect_length:\n",
    "        \n",
    "        seg_layer = 0\n",
    "        one_image = torch.ones(32, 2)\n",
    "        \n",
    "        # This loop iterates through all segmentation layers for ONE image\n",
    "        while seg_layer < 32:\n",
    "            \n",
    "            # Convert to Magnitude\n",
    "            mag = ((vectors[vect_index][seg_layer][X] *vectors[vect_index][seg_layer][X]) + (vectors[vect_index][seg_layer][Y] * vectors[vect_index][seg_layer][Y]))\n",
    "            mag = math.sqrt(mag)\n",
    "            mag = math.radians(mag)\n",
    "            \n",
    "            # Convert to Angle\n",
    "            ang = atan2(vectors[vect_index][seg_layer][Y], vectors[vect_index][seg_layer][X])\n",
    "            ang = math.radians(ang)\n",
    "            \n",
    "            # Add to one_image list\n",
    "            one_image[seg_layer][X] = mag\n",
    "            one_image[seg_layer][Y] = ang\n",
    "            \n",
    "            seg_layer += 1\n",
    "        \n",
    "        \n",
    "        vectors_array.insert(0, one_image)\n",
    "        vect_index += 1\n",
    "\n",
    "    print('file no. : ', fileNum)\n",
    "    fileNum += 1"
   ]
  },
  {
   "cell_type": "code",
   "execution_count": 5,
   "metadata": {},
   "outputs": [
    {
     "data": {
      "text/plain": [
       "20399"
      ]
     },
     "execution_count": 5,
     "metadata": {},
     "output_type": "execute_result"
    }
   ],
   "source": [
    "vectors_array.reverse()\n",
    "len(vectors_array)"
   ]
  },
  {
   "cell_type": "code",
   "execution_count": 6,
   "metadata": {},
   "outputs": [
    {
     "data": {
      "text/plain": [
       "20399"
      ]
     },
     "execution_count": 6,
     "metadata": {},
     "output_type": "execute_result"
    }
   ],
   "source": [
    "vector_tensor = torch.ones(20399, 32, 2)\n",
    "len(vector_tensor)"
   ]
  },
  {
   "cell_type": "code",
   "execution_count": 7,
   "metadata": {},
   "outputs": [
    {
     "data": {
      "text/plain": [
       "tensor([[ 0.0000e+00,  0.0000e+00],\n",
       "        [ 2.4149e-07,  3.9406e-03],\n",
       "        [ 0.0000e+00,  0.0000e+00],\n",
       "        [ 0.0000e+00,  0.0000e+00],\n",
       "        [ 7.0389e-03, -2.0664e-02],\n",
       "        [ 4.8853e-05,  6.6832e-03],\n",
       "        [ 0.0000e+00,  0.0000e+00],\n",
       "        [ 0.0000e+00,  0.0000e+00],\n",
       "        [ 0.0000e+00,  0.0000e+00],\n",
       "        [ 2.3607e-04,  2.0237e-03],\n",
       "        [ 7.1059e-05,  1.8003e-02],\n",
       "        [ 0.0000e+00,  0.0000e+00],\n",
       "        [ 5.4655e-04, -2.8307e-02],\n",
       "        [ 0.0000e+00,  0.0000e+00],\n",
       "        [ 0.0000e+00,  0.0000e+00],\n",
       "        [ 2.0026e-05,  5.2533e-02],\n",
       "        [ 7.4990e-07,  8.9811e-04],\n",
       "        [ 1.2084e-03,  2.0808e-02],\n",
       "        [ 0.0000e+00,  0.0000e+00],\n",
       "        [ 3.4511e-04,  5.0593e-02],\n",
       "        [ 0.0000e+00,  0.0000e+00],\n",
       "        [ 7.0257e-08, -3.1267e-02],\n",
       "        [ 1.9098e-05,  1.3820e-02],\n",
       "        [ 0.0000e+00,  0.0000e+00],\n",
       "        [ 0.0000e+00,  0.0000e+00],\n",
       "        [ 0.0000e+00,  0.0000e+00],\n",
       "        [ 4.9730e-06,  3.6198e-03],\n",
       "        [ 2.5107e-04, -2.1468e-02],\n",
       "        [ 0.0000e+00,  0.0000e+00],\n",
       "        [ 2.1684e-06,  5.9846e-03],\n",
       "        [ 2.3497e-04, -5.0845e-02],\n",
       "        [ 1.8950e-05,  1.0135e-02]])"
      ]
     },
     "execution_count": 7,
     "metadata": {},
     "output_type": "execute_result"
    }
   ],
   "source": [
    "vectors_array[0]"
   ]
  },
  {
   "cell_type": "markdown",
   "metadata": {},
   "source": [
    "# Transfer all the info to a tensor\n",
    "- vectors_array to vector_tensor"
   ]
  },
  {
   "cell_type": "code",
   "execution_count": 8,
   "metadata": {},
   "outputs": [
    {
     "data": {
      "text/plain": [
       "tensor([[ 0.0000e+00,  0.0000e+00],\n",
       "        [ 2.4149e-07,  3.9406e-03],\n",
       "        [ 0.0000e+00,  0.0000e+00],\n",
       "        [ 0.0000e+00,  0.0000e+00],\n",
       "        [ 7.0389e-03, -2.0664e-02],\n",
       "        [ 4.8853e-05,  6.6832e-03],\n",
       "        [ 0.0000e+00,  0.0000e+00],\n",
       "        [ 0.0000e+00,  0.0000e+00],\n",
       "        [ 0.0000e+00,  0.0000e+00],\n",
       "        [ 2.3607e-04,  2.0237e-03],\n",
       "        [ 7.1059e-05,  1.8003e-02],\n",
       "        [ 0.0000e+00,  0.0000e+00],\n",
       "        [ 5.4655e-04, -2.8307e-02],\n",
       "        [ 0.0000e+00,  0.0000e+00],\n",
       "        [ 0.0000e+00,  0.0000e+00],\n",
       "        [ 2.0026e-05,  5.2533e-02],\n",
       "        [ 7.4990e-07,  8.9811e-04],\n",
       "        [ 1.2084e-03,  2.0808e-02],\n",
       "        [ 0.0000e+00,  0.0000e+00],\n",
       "        [ 3.4511e-04,  5.0593e-02],\n",
       "        [ 0.0000e+00,  0.0000e+00],\n",
       "        [ 7.0257e-08, -3.1267e-02],\n",
       "        [ 1.9098e-05,  1.3820e-02],\n",
       "        [ 0.0000e+00,  0.0000e+00],\n",
       "        [ 0.0000e+00,  0.0000e+00],\n",
       "        [ 0.0000e+00,  0.0000e+00],\n",
       "        [ 4.9730e-06,  3.6198e-03],\n",
       "        [ 2.5107e-04, -2.1468e-02],\n",
       "        [ 0.0000e+00,  0.0000e+00],\n",
       "        [ 2.1684e-06,  5.9846e-03],\n",
       "        [ 2.3497e-04, -5.0845e-02],\n",
       "        [ 1.8950e-05,  1.0135e-02]])"
      ]
     },
     "execution_count": 8,
     "metadata": {},
     "output_type": "execute_result"
    }
   ],
   "source": [
    "for i,j in enumerate(vectors_array):\n",
    "    vector_tensor[i] = vectors_array[i]\n",
    "    \n",
    "vector_tensor[0]"
   ]
  },
  {
   "cell_type": "code",
   "execution_count": 9,
   "metadata": {},
   "outputs": [
    {
     "data": {
      "text/plain": [
       "20399"
      ]
     },
     "execution_count": 9,
     "metadata": {},
     "output_type": "execute_result"
    }
   ],
   "source": [
    "len(vector_tensor)"
   ]
  },
  {
   "cell_type": "markdown",
   "metadata": {},
   "source": [
    "# Load Labels\n",
    "- The speed at each frame"
   ]
  },
  {
   "cell_type": "code",
   "execution_count": 10,
   "metadata": {},
   "outputs": [],
   "source": [
    "with open('train.txt', mode='r') as f:\n",
    "    x = f.readlines()"
   ]
  },
  {
   "cell_type": "code",
   "execution_count": 11,
   "metadata": {},
   "outputs": [
    {
     "data": {
      "text/plain": [
       "20399"
      ]
     },
     "execution_count": 11,
     "metadata": {},
     "output_type": "execute_result"
    }
   ],
   "source": [
    "lab = [] \n",
    "for i in range(len(x) - 1):\n",
    "    lab.insert(0, float(x[i]))\n",
    "    \n",
    "lab.reverse()\n",
    "len(lab)"
   ]
  },
  {
   "cell_type": "code",
   "execution_count": 12,
   "metadata": {},
   "outputs": [
    {
     "data": {
      "text/plain": [
       "float"
      ]
     },
     "execution_count": 12,
     "metadata": {},
     "output_type": "execute_result"
    }
   ],
   "source": [
    "type(lab[1])"
   ]
  },
  {
   "cell_type": "markdown",
   "metadata": {},
   "source": [
    "# Split up data into Training_set, valid_set, test_set "
   ]
  },
  {
   "cell_type": "code",
   "execution_count": 13,
   "metadata": {},
   "outputs": [],
   "source": [
    "TRAIN_PERCENT = .7\n",
    "VALID_PERCENT = .2\n",
    "NUM_DATA_INSTANCES = len(lab)\n",
    "\n",
    "NUM_TRAIN_INSTANCES = int(TRAIN_PERCENT * NUM_DATA_INSTANCES)\n",
    "NUM_VALID_INSTANCES = int(VALID_PERCENT * NUM_DATA_INSTANCES)\n",
    "NUM_TEST_INSTANCES = int(NUM_DATA_INSTANCES - NUM_TRAIN_INSTANCES - NUM_VALID_INSTANCES)"
   ]
  },
  {
   "cell_type": "code",
   "execution_count": 14,
   "metadata": {},
   "outputs": [
    {
     "data": {
      "text/plain": [
       "4079"
      ]
     },
     "execution_count": 14,
     "metadata": {},
     "output_type": "execute_result"
    }
   ],
   "source": [
    "NUM_VALID_INSTANCES"
   ]
  },
  {
   "cell_type": "code",
   "execution_count": 15,
   "metadata": {},
   "outputs": [
    {
     "name": "stdout",
     "output_type": "stream",
     "text": [
      "train_idx len:  14279\n",
      "valid_idx len:  4079\n",
      "test_idx len:  2041\n"
     ]
    }
   ],
   "source": [
    "train_idx = vectors_array[:NUM_TRAIN_INSTANCES]\n",
    "valid_idx = vectors_array[NUM_TRAIN_INSTANCES: (NUM_DATA_INSTANCES - NUM_TEST_INSTANCES)]\n",
    "test_idx = vectors_array[(NUM_DATA_INSTANCES - NUM_TEST_INSTANCES):]\n",
    "\n",
    "\n",
    "print('train_idx len: ', len(train_idx))\n",
    "print('valid_idx len: ', len(valid_idx))\n",
    "print('test_idx len: ', len(test_idx))"
   ]
  },
  {
   "cell_type": "markdown",
   "metadata": {},
   "source": [
    "# Set Feature Dimensions"
   ]
  },
  {
   "cell_type": "code",
   "execution_count": 16,
   "metadata": {},
   "outputs": [],
   "source": [
    "# FEATURE_DIM = train_idx[0].size()\n",
    "FEATURE_DIM = 32"
   ]
  },
  {
   "cell_type": "markdown",
   "metadata": {},
   "source": [
    "# Prep labels for each set"
   ]
  },
  {
   "cell_type": "code",
   "execution_count": 17,
   "metadata": {},
   "outputs": [
    {
     "name": "stdout",
     "output_type": "stream",
     "text": [
      "train labels len:  14279\n",
      "valid labels len:  4079\n",
      "test labels len:  2041\n"
     ]
    }
   ],
   "source": [
    "trainLabels = lab[:NUM_TRAIN_INSTANCES]\n",
    "validLabels = lab[NUM_TRAIN_INSTANCES : (NUM_DATA_INSTANCES - NUM_TEST_INSTANCES)]\n",
    "testLabels = lab[(NUM_DATA_INSTANCES - NUM_TEST_INSTANCES):]\n",
    "\n",
    "print('train labels len: ', len(trainLabels))\n",
    "print('valid labels len: ', len(validLabels))\n",
    "print('test labels len: ', len(testLabels))"
   ]
  },
  {
   "cell_type": "code",
   "execution_count": 18,
   "metadata": {},
   "outputs": [
    {
     "data": {
      "text/plain": [
       "28.105569"
      ]
     },
     "execution_count": 18,
     "metadata": {},
     "output_type": "execute_result"
    }
   ],
   "source": [
    "trainLabels[0]"
   ]
  },
  {
   "cell_type": "code",
   "execution_count": 19,
   "metadata": {},
   "outputs": [
    {
     "data": {
      "text/plain": [
       "float"
      ]
     },
     "execution_count": 19,
     "metadata": {},
     "output_type": "execute_result"
    }
   ],
   "source": [
    "type(trainLabels[0])"
   ]
  },
  {
   "cell_type": "code",
   "execution_count": 20,
   "metadata": {},
   "outputs": [
    {
     "name": "stdout",
     "output_type": "stream",
     "text": [
      "lab[0]:  28.105569\n",
      "lab[0] type:  <class 'float'>\n"
     ]
    }
   ],
   "source": [
    "print('lab[0]: ', lab[0])\n",
    "print('lab[0] type: ', type(lab[0]))"
   ]
  },
  {
   "cell_type": "markdown",
   "metadata": {},
   "source": [
    "# LSTM Class"
   ]
  },
  {
   "cell_type": "code",
   "execution_count": 21,
   "metadata": {},
   "outputs": [
    {
     "data": {
      "text/plain": [
       "<torch._C.Generator at 0x7f29ca5ab590>"
      ]
     },
     "execution_count": 21,
     "metadata": {},
     "output_type": "execute_result"
    }
   ],
   "source": [
    "import torch.nn as nn\n",
    "import torch.nn.functional as F\n",
    "import torch.optim as optim\n",
    "\n",
    "# What is this????\n",
    "torch.manual_seed(1)"
   ]
  },
  {
   "cell_type": "code",
   "execution_count": 22,
   "metadata": {},
   "outputs": [],
   "source": [
    "class LSTM(nn.Module):\n",
    "    \n",
    "    # input = 32 bc there's 32 features\n",
    "    # hidden_layer = ??\n",
    "    # output size = 1, bc we want to predict the speed for one frame\n",
    "    \n",
    "    \n",
    "    def __init__(self, input_size=64, hidden_layer_size=100, output_size=32):\n",
    "        super().__init__()\n",
    "        self.hidden_layer_size = hidden_layer_size\n",
    "\n",
    "        self.lstm = nn.LSTM(input_size, hidden_layer_size)\n",
    "\n",
    "        self.linear = nn.Linear(hidden_layer_size, output_size)\n",
    "\n",
    "        self.hidden_cell = (torch.zeros(1,1,self.hidden_layer_size),\n",
    "                            torch.zeros(1,1,self.hidden_layer_size))\n",
    "\n",
    "    def forward(self, input_seq):\n",
    "        lstm_out, self.hidden_cell = self.lstm(input_seq.view(len(input_seq) ,1, -1), self.hidden_cell)\n",
    "        predictions = self.linear(lstm_out.view(len(input_seq), -1))\n",
    "        return predictions[-1]"
   ]
  },
  {
   "cell_type": "markdown",
   "metadata": {},
   "source": [
    "### Set up the model "
   ]
  },
  {
   "cell_type": "code",
   "execution_count": 23,
   "metadata": {},
   "outputs": [],
   "source": [
    "model = LSTM(input_size = FEATURE_DIM, hidden_layer_size = 100, output_size = 1)"
   ]
  },
  {
   "cell_type": "markdown",
   "metadata": {},
   "source": [
    "## Convert trainLabels to tensor"
   ]
  },
  {
   "cell_type": "code",
   "execution_count": 26,
   "metadata": {},
   "outputs": [],
   "source": [
    "trainLabels_tensor = torch.FloatTensor(trainLabels)"
   ]
  },
  {
   "cell_type": "code",
   "execution_count": 27,
   "metadata": {},
   "outputs": [
    {
     "data": {
      "text/plain": [
       "tensor(28.1056)"
      ]
     },
     "execution_count": 27,
     "metadata": {},
     "output_type": "execute_result"
    }
   ],
   "source": [
    "trainLabels_tensor[0]"
   ]
  },
  {
   "cell_type": "code",
   "execution_count": 28,
   "metadata": {},
   "outputs": [
    {
     "data": {
      "text/plain": [
       "torch.Size([32, 2])"
      ]
     },
     "execution_count": 28,
     "metadata": {},
     "output_type": "execute_result"
    }
   ],
   "source": [
    "train_idx[0].shape"
   ]
  },
  {
   "cell_type": "markdown",
   "metadata": {},
   "source": [
    "### Transpose each frame: (32 x 2) -> (2  x 32)"
   ]
  },
  {
   "cell_type": "code",
   "execution_count": 29,
   "metadata": {},
   "outputs": [],
   "source": [
    "### TRaining set\n",
    "\n",
    "for i,j in enumerate(train_idx):\n",
    "    \n",
    "    train_idx[i] = train_idx[i].transpose(0, 1)\n",
    "    \n",
    "    "
   ]
  },
  {
   "cell_type": "code",
   "execution_count": 52,
   "metadata": {},
   "outputs": [],
   "source": [
    "### VALID set\n",
    "\n",
    "for i,j in enumerate(valid_idx):\n",
    "    \n",
    "    valid_idx[i] = valid_idx[i].transpose(0, 1)\n",
    "    \n",
    "### VALID set\n",
    "\n",
    "for i,j in enumerate(test_idx):\n",
    "    \n",
    "    test_idx[i] = test_idx[i].transpose(0, 1)\n",
    "    \n"
   ]
  },
  {
   "cell_type": "code",
   "execution_count": 53,
   "metadata": {},
   "outputs": [
    {
     "data": {
      "text/plain": [
       "torch.Size([2, 32])"
      ]
     },
     "execution_count": 53,
     "metadata": {},
     "output_type": "execute_result"
    }
   ],
   "source": [
    "test_idx[345].shape"
   ]
  },
  {
   "cell_type": "code",
   "execution_count": 54,
   "metadata": {},
   "outputs": [
    {
     "data": {
      "text/plain": [
       "torch.Size([2, 32])"
      ]
     },
     "execution_count": 54,
     "metadata": {},
     "output_type": "execute_result"
    }
   ],
   "source": [
    "valid_idx[345].shape"
   ]
  },
  {
   "cell_type": "code",
   "execution_count": 30,
   "metadata": {},
   "outputs": [
    {
     "data": {
      "text/plain": [
       "torch.Size([2, 32])"
      ]
     },
     "execution_count": 30,
     "metadata": {},
     "output_type": "execute_result"
    }
   ],
   "source": [
    "train_idx[345].shape"
   ]
  },
  {
   "cell_type": "markdown",
   "metadata": {},
   "source": [
    "## Set loss function, Set learning rate"
   ]
  },
  {
   "cell_type": "code",
   "execution_count": 31,
   "metadata": {},
   "outputs": [],
   "source": [
    "LEARNING_RATE = 0.001\n",
    "\n",
    "loss_function = nn.MSELoss()\n",
    "optimizer = torch.optim.Adam(model.parameters(), lr = LEARNING_RATE)"
   ]
  },
  {
   "cell_type": "code",
   "execution_count": 49,
   "metadata": {},
   "outputs": [],
   "source": [
    "EPOCHS = 1\n",
    "\n",
    "# predictions = [[y_pred, actual, mseLoss]]\n",
    "predictions = []\n",
    "\n",
    "\n",
    "for i in range(EPOCHS):\n",
    "    \n",
    "    frame_preds = [] \n",
    "    \n",
    "    for i,seq in enumerate(train_idx):\n",
    "        \n",
    "        optimizer.zero_grad()\n",
    "        model.hidden_cell = (torch.zeros(1, 1, model.hidden_layer_size),\n",
    "                            torch.zeros(1, 1, model.hidden_layer_size))\n",
    "        \n",
    "        y_pred = model(seq)\n",
    "                \n",
    "        single_loss = loss_function(y_pred, trainLabels_tensor[i])\n",
    "        single_loss.backward()\n",
    "        optimizer.step()\n",
    "        \n",
    "        \n",
    "        \n",
    "        # Insert everything into frame_preds[], then predicitons \n",
    "        frame_preds = [y_pred, trainLabels_tensor[i], single_loss]\n",
    "        predictions.insert(0, frame_preds)\n",
    "        \n",
    "\n",
    "\n",
    "        \n",
    "    if i % 500 == 0:\n",
    "        print(f'epoch: {i:3} loss: {single_loss.item(): 10.8f}')\n",
    "\n",
    "predictions.reverse() \n",
    "print(f'epoch: {i:3} loss: {single_loss.item(): 10.10f}')"
   ]
  },
  {
   "cell_type": "code",
   "execution_count": 44,
   "metadata": {},
   "outputs": [
    {
     "data": {
      "text/plain": [
       "14279"
      ]
     },
     "execution_count": 44,
     "metadata": {},
     "output_type": "execute_result"
    }
   ],
   "source": [
    "len(predictions)"
   ]
  },
  {
   "cell_type": "code",
   "execution_count": 45,
   "metadata": {},
   "outputs": [
    {
     "data": {
      "text/plain": [
       "[tensor([4.2439], grad_fn=<SelectBackward>),\n",
       " tensor(4.1672),\n",
       " tensor(0.0059, grad_fn=<MseLossBackward>)]"
      ]
     },
     "execution_count": 45,
     "metadata": {},
     "output_type": "execute_result"
    }
   ],
   "source": [
    "predictions[14200]"
   ]
  },
  {
   "cell_type": "code",
   "execution_count": 47,
   "metadata": {},
   "outputs": [],
   "source": [
    "torch.save(model, 'LSTM_saved.pickle')"
   ]
  },
  {
   "cell_type": "markdown",
   "metadata": {},
   "source": [
    "## Predictions for valid & test set"
   ]
  },
  {
   "cell_type": "code",
   "execution_count": 50,
   "metadata": {},
   "outputs": [],
   "source": [
    "validLabels_tensor = torch.FloatTensor(validLabels)\n",
    "testLabels_tensor = torch.FloatTensor(testLabels)"
   ]
  },
  {
   "cell_type": "code",
   "execution_count": null,
   "metadata": {},
   "outputs": [],
   "source": [
    "for i, seq in enumerate(valid_idx):\n",
    "        \n",
    "        optimizer.zero_grad()\n",
    "        model.hidden_cell = (torch.zeros(1, 1, model.hidden_layer_size),\n",
    "                            torch.zeros(1, 1, model.hidden_layer_size))\n",
    "        \n",
    "        y_pred = model(seq)\n",
    "                \n",
    "        single_loss = loss_function(y_pred, validLabels_tensor[i])\n",
    "        \n",
    "        single_loss.backward()\n",
    "        optimizer.step()\n",
    "        \n",
    "        if single_loss > 2.0: \n",
    "            print('singleLoss: ', single_loss)\n",
    "            print('y_pred vs. actual: ')\n",
    "            print(y_pred, '  vs  ', validLabels_tensor[i])"
   ]
  },
  {
   "cell_type": "code",
   "execution_count": null,
   "metadata": {},
   "outputs": [],
   "source": []
  }
 ],
 "metadata": {
  "kernelspec": {
   "display_name": "Python 3",
   "language": "python",
   "name": "python3"
  },
  "language_info": {
   "codemirror_mode": {
    "name": "ipython",
    "version": 3
   },
   "file_extension": ".py",
   "mimetype": "text/x-python",
   "name": "python",
   "nbconvert_exporter": "python",
   "pygments_lexer": "ipython3",
   "version": "3.7.3"
  }
 },
 "nbformat": 4,
 "nbformat_minor": 2
}
