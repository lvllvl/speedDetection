{
 "cells": [
  {
   "cell_type": "code",
   "execution_count": 1,
   "metadata": {},
   "outputs": [],
   "source": [
    "%reload_ext autoreload\n",
    "%autoreload 2\n",
    "%matplotlib inline"
   ]
  },
  {
   "cell_type": "code",
   "execution_count": 2,
   "metadata": {},
   "outputs": [],
   "source": [
    "from fastai.vision import *\n",
    "from fastai.callbacks.hooks import *\n",
    "from fastai.utils.mem import *\n",
    "\n",
    "\n",
    "from PIL import Image\n",
    "from numpy import array\n",
    "\n",
    "import time\n",
    "\n",
    "import cv2\n",
    "import numpy as np\n",
    "\n",
    "from torchvision.utils import save_image\n",
    "import torch"
   ]
  },
  {
   "cell_type": "code",
   "execution_count": 3,
   "metadata": {},
   "outputs": [],
   "source": [
    "def segs2onehot(frame, nchannels):\n",
    "    \"\"\"\n",
    "    Converts a tensor of shape (1, imgx, imgy)\n",
    "    with discrete values in the range(nchannels)\n",
    "    to a onehot style tensor of shape (nchannels, imgx, imgy)\n",
    "    \"\"\"\n",
    "    *_, nx, ny = frame.shape\n",
    "    x,y = np.meshgrid(np.arange(nx), np.arange(ny))\n",
    "    res = np.zeros((nchannels, nx, ny))\n",
    "    res[frame.T.ravel(), x.ravel(), y.ravel()] = 1\n",
    "    return res"
   ]
  },
  {
   "cell_type": "code",
   "execution_count": 20,
   "metadata": {},
   "outputs": [],
   "source": [
    "segment_count = 20000\n",
    "fileCount = 21\n",
    "\n",
    "vector_list = []\n",
    "mag_ang_list_one = []"
   ]
  },
  {
   "cell_type": "code",
   "execution_count": 21,
   "metadata": {},
   "outputs": [
    {
     "data": {
      "text/plain": [
       "400"
      ]
     },
     "execution_count": 21,
     "metadata": {},
     "output_type": "execute_result"
    }
   ],
   "source": [
    "# Open the optical flow matrices\n",
    "matrices = np.load('vectorFolder/optFlowMat21.npy')\n",
    "len(matrices)"
   ]
  },
  {
   "cell_type": "code",
   "execution_count": 22,
   "metadata": {},
   "outputs": [],
   "source": [
    "for matrix in matrices:\n",
    "    \n",
    "    # Segmentation: Load in segmentation image\n",
    "    seg_im = cv2.imread(f'/home/jupyter/.fastai/data/camvid/segmentedImages/segImage{segment_count}.png')\n",
    "    seg = seg_im[:,:,0]\n",
    "    \n",
    "    # Segmentation: Perform One-Hot Encoding\n",
    "    segOH = segs2onehot(seg, 32)\n",
    "    \n",
    "    # Segmentation: Change dimensions # 01 x 32 x 360 x 480\n",
    "    seg1 = segOH[None, :,:,:]\n",
    "        \n",
    "    # OPTICAL FLOW: Change dimensions # 02 x 01 x 360 x 480\n",
    "    optFlow1 = matrix[:, None, :, :]\n",
    "    \n",
    "    # Dot product for optFlow1 * seg1\n",
    "    vector = (optFlow1 * seg1)\n",
    "    \n",
    "    # Average Pooling: transpose to prepare vector\n",
    "    vect1 = vector.T\n",
    "    \n",
    "    # Average Pooling: Dimensions should be 32 x 2\n",
    "    ave1 = np.mean(vect1, axis=1)\n",
    "    ave2 = np.mean(ave1, axis=0)\n",
    "    \n",
    "    vector_list.append(ave2)\n",
    "    \n",
    "    segment_count += 1\n",
    "    \n",
    "np.save(f'vectorFolder/vectorList{fileCount}.npy', vector_list)\n",
    "vector_list.clear()"
   ]
  },
  {
   "cell_type": "code",
   "execution_count": 23,
   "metadata": {},
   "outputs": [
    {
     "name": "stdout",
     "output_type": "stream",
     "text": [
      "20400\n"
     ]
    }
   ],
   "source": [
    "print(segment_count)"
   ]
  },
  {
   "cell_type": "markdown",
   "metadata": {},
   "source": [
    "# Alt script below"
   ]
  },
  {
   "cell_type": "code",
   "execution_count": 4,
   "metadata": {},
   "outputs": [],
   "source": [
    "vector_list = []\n",
    "count = 14001\n",
    "# Save your vectors using this variable\n",
    "fileCount = 28\n",
    "\n",
    "# magAngList = []\n",
    "mag_ang_list_one = []"
   ]
  },
  {
   "cell_type": "code",
   "execution_count": 5,
   "metadata": {},
   "outputs": [],
   "source": [
    "cap = cv2.imread('/home/jupyter/.fastai/data/camvid/commaImages/frame14000.jpg')\n",
    "frame1 = cap\n",
    "prvs = cv2.cvtColor(frame1, cv2.COLOR_BGR2GRAY)"
   ]
  },
  {
   "cell_type": "code",
   "execution_count": 6,
   "metadata": {},
   "outputs": [],
   "source": [
    "# Use this to reset optical flow in between 5,000 frames \n",
    "\n",
    "\n",
    "# frame1 = cv2.imread(f'/home/jupyter/.fastai/data/camvid/commaImages/frame{count}.jpg')\n",
    "# prvs = cv2.cvtColor(frame1, cv2.COLOR_BGR2GRAY)\n",
    "# count += 1"
   ]
  },
  {
   "cell_type": "code",
   "execution_count": 7,
   "metadata": {},
   "outputs": [
    {
     "name": "stdout",
     "output_type": "stream",
     "text": [
      "count =  14500\n",
      "count =  15000\n",
      "count =  15500\n",
      "count =  16000\n",
      "count =  16500\n",
      "count =  17000\n",
      "count =  17500\n",
      "count =  18000\n",
      "count =  18500\n",
      "count =  19000\n",
      "count =  19500\n",
      "count =  20000\n",
      "20401\n"
     ]
    }
   ],
   "source": [
    "while (count < 20401):\n",
    "    frame2 = cv2.imread(f'/home/jupyter/.fastai/data/camvid/commaImages/frame{count}.jpg')\n",
    "    nxt = cv2.cvtColor(frame2,cv2.COLOR_BGR2GRAY)\n",
    "    flow = cv2.calcOpticalFlowFarneback(prvs,nxt, None, 0.5, 3, 15, 3, 5, 1.2, 0)\n",
    "\n",
    "    # Optical Flow: set up and document magnitude, angle\n",
    "    mag, ang = (flow[...,0], flow[...,1])\n",
    "    \n",
    "    # Optical Flow: Combine mag, ang\n",
    "    magAng = np.stack([mag, ang])\n",
    "    \n",
    "#     magAngList.append(magAng)\n",
    "    mag_ang_list_one.append(magAng)\n",
    "    \n",
    "    # Segmentation: Load in segmentation image\n",
    "    seg_im = cv2.imread(f'/home/jupyter/.fastai/data/camvid/segmentedImages/segImage{count}.png')\n",
    "    seg = seg_im[:,:,0]\n",
    "    \n",
    "    # Segmentation: Perform One-Hot Encoding\n",
    "    segOH = segs2onehot(seg, 32)\n",
    "    \n",
    "    # Segmentation: Change dimensions # 01 x 32 x 360 x 480\n",
    "    seg1 = segOH[None, :,:,:]\n",
    "\n",
    "    # Optical Flow: Isolate the most recent optical flow matrix \n",
    "    optFlow = mag_ang_list_one[0]\n",
    "    \n",
    "    \n",
    "    # Optical Flow: Change dimensions # 02 x 01 x 360 x 480\n",
    "    optFlow1 = optFlow[:, None, :, :]\n",
    "    \n",
    "    \n",
    "    # Dot product for optFlow1 * seg1\n",
    "    vector = (optFlow1 * seg1)\n",
    "    \n",
    "    # Average Pooling: transpose to prepare vector\n",
    "    vect1 = vector.T\n",
    "    vect2 = vect1.T\n",
    "    \n",
    "    # Average Pooling: Dimensions should be 32 x 2\n",
    "    ave1 = np.mean(vect2, axis=1)\n",
    "    ave2 = np.mean(ave1, axis=0)\n",
    "    \n",
    "    vector_list.append(ave2)\n",
    "\n",
    "    # Empty mag_ang_list_one list \n",
    "    mag_ang_list_one.clear()\n",
    "        \n",
    "    # Optical Flow: on to the next images \n",
    "    prvs = nxt\n",
    "    count += 1\n",
    "    \n",
    "    # Print Status of count \n",
    "    if count % 1000 == 0 or count % 500 == 0:\n",
    "        print(\"count = \", count)\n",
    "        \n",
    "    if count % 500 == 0:\n",
    "        np.save(f'vectorFolder/vectorList{fileCount}.npy', vector_list)\n",
    "        fileCount += 1\n",
    "        vector_list.clear()\n",
    "\n",
    "cv2.destroyAllWindows()\n",
    "print(count)"
   ]
  },
  {
   "cell_type": "code",
   "execution_count": 8,
   "metadata": {},
   "outputs": [
    {
     "name": "stdout",
     "output_type": "stream",
     "text": [
      "20401\n"
     ]
    }
   ],
   "source": [
    "print(count)"
   ]
  },
  {
   "cell_type": "code",
   "execution_count": 9,
   "metadata": {},
   "outputs": [],
   "source": [
    "# Save the final vectors \n",
    "np.save(f'vectorList_{fileCount + 1}.npy', vector_list)"
   ]
  }
 ],
 "metadata": {
  "kernelspec": {
   "display_name": "Python 3",
   "language": "python",
   "name": "python3"
  },
  "language_info": {
   "codemirror_mode": {
    "name": "ipython",
    "version": 3
   },
   "file_extension": ".py",
   "mimetype": "text/x-python",
   "name": "python",
   "nbconvert_exporter": "python",
   "pygments_lexer": "ipython3",
   "version": "3.7.3"
  }
 },
 "nbformat": 4,
 "nbformat_minor": 2
}
