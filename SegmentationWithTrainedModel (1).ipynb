{
 "cells": [
  {
   "cell_type": "code",
   "execution_count": 1,
   "metadata": {},
   "outputs": [],
   "source": [
    "%reload_ext autoreload\n",
    "%autoreload 2\n",
    "%matplotlib inline"
   ]
  },
  {
   "cell_type": "code",
   "execution_count": 6,
   "metadata": {},
   "outputs": [],
   "source": [
    "from fastai.vision import *\n",
    "from fastai.callbacks.hooks import *\n",
    "from fastai.utils.mem import *\n",
    "\n",
    "\n",
    "from PIL import Image\n",
    "from numpy import array\n",
    "\n",
    "import skimage\n",
    "import time"
   ]
  },
  {
   "cell_type": "code",
   "execution_count": 3,
   "metadata": {},
   "outputs": [],
   "source": [
    "camvid = untar_data(URLs.CAMVID)\n",
    "path_lbl = camvid/'labels'\n",
    "path_img = camvid/'images'\n",
    "path_vidFrames = camvid/'commaImages'\n",
    "\n",
    "# All commaAI images that are segmented are going to be in here \n",
    "path_Predicted = camvid/'predictedImages'"
   ]
  },
  {
   "cell_type": "code",
   "execution_count": 4,
   "metadata": {},
   "outputs": [
    {
     "data": {
      "text/plain": [
       "[PosixPath('/home/jupyter/.fastai/data/camvid/predictedImages'),\n",
       " PosixPath('/home/jupyter/.fastai/data/camvid/export.pkl'),\n",
       " PosixPath('/home/jupyter/.fastai/data/camvid/images'),\n",
       " PosixPath('/home/jupyter/.fastai/data/camvid/codes.txt'),\n",
       " PosixPath('/home/jupyter/.fastai/data/camvid/labels'),\n",
       " PosixPath('/home/jupyter/.fastai/data/camvid/base92.pkl'),\n",
       " PosixPath('/home/jupyter/.fastai/data/camvid/valid.txt'),\n",
       " PosixPath('/home/jupyter/.fastai/data/camvid/commaImages')]"
      ]
     },
     "execution_count": 4,
     "metadata": {},
     "output_type": "execute_result"
    }
   ],
   "source": [
    "camvid.ls()"
   ]
  },
  {
   "cell_type": "markdown",
   "metadata": {},
   "source": [
    "# Video (train.mp4) to frames.jpg\n",
    "\n",
    "- Use this only if you want to create new images\n",
    "- Remember to check WHERE your images are being saved"
   ]
  },
  {
   "cell_type": "code",
   "execution_count": 6,
   "metadata": {},
   "outputs": [],
   "source": [
    "# import cv2\n",
    "# vidcap = cv2.VideoCapture('/home/jupyter/.fastai/data/camvid/commaImages/train.mp4')\n",
    "\n",
    "#/home/jupyter/.fastai/data/camvid/commaImages\n",
    "\n",
    "# success,image = vidcap.read()\n",
    "\n",
    "# count = 0\n",
    "\n",
    "# while success:\n",
    "#     # save frame as jpg file\n",
    "#     cv2.imwrite(\"frame%d.jpg\" % count, image)\n",
    "\n",
    "#     success, image = vidcap.read()\n",
    "#     \n",
    "#     if count % 1000 == 0 or count == 20400:\n",
    "#         print(\"read a new frame: \", success)\n",
    "#     count += 1\n",
    "\n",
    "# /home/jupyter/.fastai/data/commaImages"
   ]
  },
  {
   "cell_type": "markdown",
   "metadata": {},
   "source": [
    "# Data Prep, continued"
   ]
  },
  {
   "cell_type": "code",
   "execution_count": 5,
   "metadata": {},
   "outputs": [
    {
     "data": {
      "text/plain": [
       "array(['Animal', 'Archway', 'Bicyclist', 'Bridge', 'Building', 'Car', 'CartLuggagePram', 'Child', 'Column_Pole',\n",
       "       'Fence', 'LaneMkgsDriv', 'LaneMkgsNonDriv', 'Misc_Text', 'MotorcycleScooter', 'OtherMoving', 'ParkingBlock',\n",
       "       'Pedestrian', 'Road', 'RoadShoulder', 'Sidewalk', 'SignSymbol', 'Sky', 'SUVPickupTruck', 'TrafficCone',\n",
       "       'TrafficLight', 'Train', 'Tree', 'Truck_Bus', 'Tunnel', 'VegetationMisc', 'Void', 'Wall'], dtype='<U17')"
      ]
     },
     "execution_count": 5,
     "metadata": {},
     "output_type": "execute_result"
    }
   ],
   "source": [
    "codes = np.loadtxt(camvid/'codes.txt', dtype=str);  codes"
   ]
  },
  {
   "cell_type": "code",
   "execution_count": 8,
   "metadata": {},
   "outputs": [],
   "source": [
    "# get_y_fn = lambda x: path_lbl/f'{x.stem}_P{x.suffix}'"
   ]
  },
  {
   "cell_type": "code",
   "execution_count": 9,
   "metadata": {},
   "outputs": [
    {
     "data": {
      "text/plain": [
       "{'Animal': 0,\n",
       " 'Archway': 1,\n",
       " 'Bicyclist': 2,\n",
       " 'Bridge': 3,\n",
       " 'Building': 4,\n",
       " 'Car': 5,\n",
       " 'CartLuggagePram': 6,\n",
       " 'Child': 7,\n",
       " 'Column_Pole': 8,\n",
       " 'Fence': 9,\n",
       " 'LaneMkgsDriv': 10,\n",
       " 'LaneMkgsNonDriv': 11,\n",
       " 'Misc_Text': 12,\n",
       " 'MotorcycleScooter': 13,\n",
       " 'OtherMoving': 14,\n",
       " 'ParkingBlock': 15,\n",
       " 'Pedestrian': 16,\n",
       " 'Road': 17,\n",
       " 'RoadShoulder': 18,\n",
       " 'Sidewalk': 19,\n",
       " 'SignSymbol': 20,\n",
       " 'Sky': 21,\n",
       " 'SUVPickupTruck': 22,\n",
       " 'TrafficCone': 23,\n",
       " 'TrafficLight': 24,\n",
       " 'Train': 25,\n",
       " 'Tree': 26,\n",
       " 'Truck_Bus': 27,\n",
       " 'Tunnel': 28,\n",
       " 'VegetationMisc': 29,\n",
       " 'Void': 30,\n",
       " 'Wall': 31}"
      ]
     },
     "execution_count": 9,
     "metadata": {},
     "output_type": "execute_result"
    }
   ],
   "source": [
    "name2id = {v:k for k,v in enumerate(codes)}; name2id"
   ]
  },
  {
   "cell_type": "code",
   "execution_count": 10,
   "metadata": {},
   "outputs": [],
   "source": [
    "void_code = name2id['Void']"
   ]
  },
  {
   "cell_type": "code",
   "execution_count": 12,
   "metadata": {},
   "outputs": [
    {
     "data": {
      "text/plain": [
       "30"
      ]
     },
     "execution_count": 12,
     "metadata": {},
     "output_type": "execute_result"
    }
   ],
   "source": [
    "name2id['Void']"
   ]
  },
  {
   "cell_type": "code",
   "execution_count": 15,
   "metadata": {},
   "outputs": [],
   "source": [
    "# def acc_camvid(input, target):\n",
    "#     target = target.squeeze(1)\n",
    "#     mask = target != void_code\n",
    "#     return (input.argmax(dim=1)[mask] == target[mask]).float().mean()"
   ]
  },
  {
   "cell_type": "code",
   "execution_count": 16,
   "metadata": {},
   "outputs": [],
   "source": [
    "# Gets names ONLY of frames files from dash-cam video\n",
    "frames = get_image_files(path_vidFrames)"
   ]
  },
  {
   "cell_type": "markdown",
   "metadata": {},
   "source": [
    "# Load learner"
   ]
  },
  {
   "cell_type": "code",
   "execution_count": 17,
   "metadata": {},
   "outputs": [],
   "source": [
    "# Loading a previously trained model for segmentation\n",
    "learn= load_learner(camvid)"
   ]
  },
  {
   "cell_type": "code",
   "execution_count": 18,
   "metadata": {},
   "outputs": [],
   "source": [
    "# Get image files from \n",
    "frames = get_image_files(path_vidFrames)"
   ]
  },
  {
   "cell_type": "code",
   "execution_count": 19,
   "metadata": {},
   "outputs": [
    {
     "data": {
      "text/plain": [
       "20400"
      ]
     },
     "execution_count": 19,
     "metadata": {},
     "output_type": "execute_result"
    }
   ],
   "source": [
    "len(frames)"
   ]
  },
  {
   "cell_type": "markdown",
   "metadata": {},
   "source": [
    "# Prepare Images, Predict Images\n",
    "- Save images to predictedImages Folder"
   ]
  },
  {
   "cell_type": "code",
   "execution_count": 18,
   "metadata": {},
   "outputs": [],
   "source": [
    "# img = open_image(path_vidFrames/'frame1015.jpg')"
   ]
  },
  {
   "cell_type": "code",
   "execution_count": null,
   "metadata": {},
   "outputs": [],
   "source": [
    "count = 200\n",
    "arr = []\n",
    "while count < 205:\n",
    "    img = open_image(path_vidFrames/f'frame{count}.jpg')\n",
    "    \n",
    "    # Crop the TOP and BOTTOM of images (top is just sky, bottom is dashboard)\n",
    "    crop_pad(img, (390,640), 'border', 0.,0.).show()\n",
    "\n",
    "    # Alter the BRIGHTNESS\n",
    "    brightness(img, 0.71)\n",
    "\n",
    "    pred = learn.predict(img)\n",
    "    pred[0].show(figsize=(10,10))\n",
    "    \n",
    "    # Save GRAYSCALE image here\n",
    "    pred[0].save(f'/home/jupyter/.fastai/data/camvid/predictedImages/predImg{count}.jpg')\n",
    "    \n",
    "    \n",
    "    # Save the image in a FOLDER or ARRAY\n",
    "    # How do I save the matrix? Where? To text file?\n",
    "    # arr.append(pred)\n",
    "    \n",
    "    # Increase count, move on to next image\n",
    "    count += 1"
   ]
  },
  {
   "cell_type": "markdown",
   "metadata": {},
   "source": [
    "# Tests: "
   ]
  },
  {
   "cell_type": "markdown",
   "metadata": {},
   "source": [
    "#### Prepare Image"
   ]
  },
  {
   "cell_type": "code",
   "execution_count": 20,
   "metadata": {},
   "outputs": [
    {
     "data": {
      "image/png": "[encoded data removed]",
      "text/plain": [
       "<Figure size 720x720 with 1 Axes>"
      ]
     },
     "metadata": {
      "needs_background": "light"
     },
     "output_type": "display_data"
    }
   ],
   "source": [
    "img = open_image(path_vidFrames/'frame6020.jpg')\n",
    "crop_pad(img, (390, 640), 'border', 0., 0.)\n",
    "brightness(img, 0.71)\n",
    "pred = learn.predict(img)\n",
    "pred[0].show(figsize=(10,10))"
   ]
  },
  {
   "cell_type": "markdown",
   "metadata": {},
   "source": [
    "#### Save image in black and white:\n",
    "\n",
    "- in black and white: can you introduce color later?"
   ]
  },
  {
   "cell_type": "code",
   "execution_count": 52,
   "metadata": {},
   "outputs": [],
   "source": [
    "# This converts image to a matrix with values matched to your classes!!! \n",
    "x = image2np(pred[0].data).astype(np.uint8)\n",
    "xx = image2np(pred[0].data)\n",
    "# PIL.ImageColor.Image."
   ]
  },
  {
   "cell_type": "code",
   "execution_count": 53,
   "metadata": {},
   "outputs": [],
   "source": [
    "PIL.Image.fromarray(x).save('pilTest.jpg')"
   ]
  },
  {
   "cell_type": "markdown",
   "metadata": {},
   "source": [
    "#### Can you re-introduce color into image?"
   ]
  },
  {
   "cell_type": "code",
   "execution_count": 54,
   "metadata": {},
   "outputs": [],
   "source": [
    "d = open_image('pilTest.jpg')"
   ]
  },
  {
   "cell_type": "markdown",
   "metadata": {},
   "source": [
    "Can you turn image back into a matrix?"
   ]
  },
  {
   "cell_type": "code",
   "execution_count": 61,
   "metadata": {},
   "outputs": [],
   "source": [
    "d = np.asarray(PIL.Image.open('pilTest.jpg'))"
   ]
  },
  {
   "cell_type": "code",
   "execution_count": 62,
   "metadata": {},
   "outputs": [
    {
     "data": {
      "text/plain": [
       "numpy.ndarray"
      ]
     },
     "execution_count": 62,
     "metadata": {},
     "output_type": "execute_result"
    }
   ],
   "source": [
    "type(d)"
   ]
  },
  {
   "cell_type": "code",
   "execution_count": 65,
   "metadata": {},
   "outputs": [
    {
     "data": {
      "text/plain": [
       "array([[ 3,  4,  4,  4, ...,  0,  7, 26, 35],\n",
       "       [ 3,  3,  4,  4, ..., 11, 11, 17, 16],\n",
       "       [ 3,  3,  3,  4, ..., 18, 14, 13,  7],\n",
       "       [ 3,  3,  3,  3, ...,  0,  0,  1,  2],\n",
       "       ...,\n",
       "       [30, 26, 20, 17, ..., 17, 17, 17, 17],\n",
       "       [19, 17, 15, 15, ..., 17, 17, 17, 17],\n",
       "       [15, 14, 13, 15, ..., 17, 17, 17, 17],\n",
       "       [17, 17, 17, 18, ..., 17, 17, 17, 17]], dtype=uint8)"
      ]
     },
     "execution_count": 65,
     "metadata": {},
     "output_type": "execute_result"
    }
   ],
   "source": [
    "d"
   ]
  },
  {
   "cell_type": "code",
   "execution_count": 63,
   "metadata": {},
   "outputs": [],
   "source": [
    "dIm = PIL.Image.fromarray(np.uint8(d))"
   ]
  },
  {
   "cell_type": "code",
   "execution_count": 64,
   "metadata": {},
   "outputs": [
    {
     "data": {
      "image/png": "[encoded data removed]",
      "text/plain": [
       "<PIL.Image.Image image mode=L size=480x360 at 0x7F87E488F048>"
      ]
     },
     "execution_count": 64,
     "metadata": {},
     "output_type": "execute_result"
    }
   ],
   "source": [
    "dIm"
   ]
  },
  {
   "cell_type": "code",
   "execution_count": 58,
   "metadata": {},
   "outputs": [
    {
     "data": {
      "image/png": "[encoded data removed]",
      "text/plain": [
       "<Figure size 720x720 with 1 Axes>"
      ]
     },
     "metadata": {
      "needs_background": "light"
     },
     "output_type": "display_data"
    }
   ],
   "source": [
    "d.show(figsize=(10,10))"
   ]
  },
  {
   "cell_type": "code",
   "execution_count": 41,
   "metadata": {},
   "outputs": [
    {
     "data": {
      "text/plain": [
       "(360, 480)"
      ]
     },
     "execution_count": 41,
     "metadata": {},
     "output_type": "execute_result"
    }
   ],
   "source": [
    "x.shape"
   ]
  },
  {
   "cell_type": "code",
   "execution_count": 51,
   "metadata": {},
   "outputs": [
    {
     "data": {
      "text/plain": [
       "array([[252, 252, 252, 252, ..., 252, 252, 230, 230],\n",
       "       [252, 252, 252, 252, ..., 252, 252, 230, 230],\n",
       "       [252, 252, 252, 252, ..., 226, 252, 252, 252],\n",
       "       [252, 252, 252, 252, ..., 252, 252, 252, 252],\n",
       "       ...,\n",
       "       [226, 226, 239, 239, ..., 239, 239, 239, 239],\n",
       "       [239, 239, 239, 239, ..., 239, 239, 239, 239],\n",
       "       [239, 239, 239, 239, ..., 239, 239, 239, 239],\n",
       "       [239, 239, 239, 239, ..., 239, 239, 239, 239]], dtype=uint8)"
      ]
     },
     "execution_count": 51,
     "metadata": {},
     "output_type": "execute_result"
    }
   ],
   "source": [
    "x"
   ]
  },
  {
   "cell_type": "code",
   "execution_count": 36,
   "metadata": {},
   "outputs": [
    {
     "data": {
      "text/plain": [
       "numpy.ndarray"
      ]
     },
     "execution_count": 36,
     "metadata": {},
     "output_type": "execute_result"
    }
   ],
   "source": [
    "type(xx)"
   ]
  },
  {
   "cell_type": "code",
   "execution_count": 37,
   "metadata": {},
   "outputs": [
    {
     "data": {
      "text/plain": [
       "numpy.ndarray"
      ]
     },
     "execution_count": 37,
     "metadata": {},
     "output_type": "execute_result"
    }
   ],
   "source": [
    "type(x)"
   ]
  },
  {
   "cell_type": "code",
   "execution_count": null,
   "metadata": {},
   "outputs": [],
   "source": []
  },
  {
   "cell_type": "markdown",
   "metadata": {},
   "source": [
    "#### Save image in color"
   ]
  },
  {
   "cell_type": "code",
   "execution_count": 22,
   "metadata": {},
   "outputs": [
    {
     "name": "stdout",
     "output_type": "stream",
     "text": [
      "Object `show` not found.\n"
     ]
    }
   ],
   "source": []
  },
  {
   "cell_type": "code",
   "execution_count": 14,
   "metadata": {},
   "outputs": [
    {
     "data": {
      "text/plain": [
       "fastai.vision.image.ImageSegment"
      ]
     },
     "execution_count": 14,
     "metadata": {},
     "output_type": "execute_result"
    }
   ],
   "source": [
    "# pred[0].save('test.jpg')\n",
    "type(pred[0])"
   ]
  },
  {
   "cell_type": "code",
   "execution_count": 28,
   "metadata": {},
   "outputs": [],
   "source": [
    "t = pred[0]"
   ]
  },
  {
   "cell_type": "code",
   "execution_count": 30,
   "metadata": {},
   "outputs": [
    {
     "data": {
      "image/png": "[encoded data removed]",
      "text/plain": [
       "<Figure size 216x216 with 1 Axes>"
      ]
     },
     "metadata": {
      "needs_background": "light"
     },
     "output_type": "display_data"
    }
   ],
   "source": [
    "t.show()"
   ]
  },
  {
   "cell_type": "code",
   "execution_count": 20,
   "metadata": {},
   "outputs": [
    {
     "data": {
      "text/plain": [
       "tuple"
      ]
     },
     "execution_count": 20,
     "metadata": {},
     "output_type": "execute_result"
    }
   ],
   "source": [
    "type(pred)"
   ]
  },
  {
   "cell_type": "code",
   "execution_count": null,
   "metadata": {},
   "outputs": [],
   "source": [
    "d = open_image('test.jpg')"
   ]
  },
  {
   "cell_type": "code",
   "execution_count": null,
   "metadata": {},
   "outputs": [],
   "source": [
    "im_1 = Image.open('test.jpg')\n",
    "\n",
    "arr = array(im_1)\n",
    "arr"
   ]
  },
  {
   "cell_type": "code",
   "execution_count": null,
   "metadata": {},
   "outputs": [],
   "source": [
    "mat = d.shape\n",
    "mat\n",
    "# from PIL import Image as PImage\n",
    "# from fastai.vision import *\n",
    "\n",
    "# frame = cv2.cvtColor(frame,cv2.COLOR_BGR2RGB)\n",
    "# pil_im = PImage.fromarray(frame) \n",
    "# x = pil2tensor(pil_im ,np.float32)\n",
    "# preds_num = learn.predict(Image(x))[2].numpy()"
   ]
  },
  {
   "cell_type": "code",
   "execution_count": null,
   "metadata": {},
   "outputs": [],
   "source": []
  },
  {
   "cell_type": "code",
   "execution_count": null,
   "metadata": {},
   "outputs": [],
   "source": []
  },
  {
   "cell_type": "code",
   "execution_count": null,
   "metadata": {},
   "outputs": [],
   "source": []
  },
  {
   "cell_type": "markdown",
   "metadata": {},
   "source": [
    "#### Save Matrices to harddrive\n",
    "- Can you save matrices to text file\n",
    "- Can you remake a segmented image from a matrix?"
   ]
  },
  {
   "cell_type": "code",
   "execution_count": 20,
   "metadata": {},
   "outputs": [
    {
     "data": {
      "text/plain": [
       "fastai.vision.image.ImageSegment"
      ]
     },
     "execution_count": 20,
     "metadata": {},
     "output_type": "execute_result"
    }
   ],
   "source": [
    "type(pred[0])"
   ]
  },
  {
   "cell_type": "code",
   "execution_count": 21,
   "metadata": {},
   "outputs": [
    {
     "data": {
      "text/plain": [
       "torch.Size([1, 360, 480])"
      ]
     },
     "execution_count": 21,
     "metadata": {},
     "output_type": "execute_result"
    }
   ],
   "source": [
    "pred[0].shape"
   ]
  },
  {
   "cell_type": "code",
   "execution_count": null,
   "metadata": {},
   "outputs": [],
   "source": [
    "pred"
   ]
  },
  {
   "cell_type": "code",
   "execution_count": null,
   "metadata": {},
   "outputs": [],
   "source": []
  },
  {
   "cell_type": "code",
   "execution_count": null,
   "metadata": {},
   "outputs": [],
   "source": []
  },
  {
   "cell_type": "code",
   "execution_count": null,
   "metadata": {},
   "outputs": [],
   "source": []
  },
  {
   "cell_type": "code",
   "execution_count": null,
   "metadata": {},
   "outputs": [],
   "source": []
  },
  {
   "cell_type": "markdown",
   "metadata": {},
   "source": [
    "### Destroy comma-Ai images, then recreate frames"
   ]
  },
  {
   "cell_type": "code",
   "execution_count": null,
   "metadata": {},
   "outputs": [],
   "source": []
  },
  {
   "cell_type": "markdown",
   "metadata": {},
   "source": [
    "# LSTM SECTION"
   ]
  },
  {
   "cell_type": "markdown",
   "metadata": {},
   "source": [
    "#### Create datablock\n",
    "- Match labels (speeds) to images"
   ]
  },
  {
   "cell_type": "code",
   "execution_count": null,
   "metadata": {},
   "outputs": [],
   "source": []
  },
  {
   "cell_type": "markdown",
   "metadata": {},
   "source": [
    "#### Create databunch"
   ]
  },
  {
   "cell_type": "code",
   "execution_count": null,
   "metadata": {},
   "outputs": [],
   "source": []
  },
  {
   "cell_type": "markdown",
   "metadata": {},
   "source": [
    "#### LSTM model (class: init, forward method)\n",
    "- Add Lucas-Kanade optical flow here???\n",
    "- BPTT: include Means Squared Error as your loss function here"
   ]
  },
  {
   "cell_type": "code",
   "execution_count": null,
   "metadata": {},
   "outputs": [],
   "source": []
  },
  {
   "cell_type": "markdown",
   "metadata": {},
   "source": [
    "#### Create learner\n",
    "\n",
    "- fit to one_cycle\n",
    "- Set learning rate"
   ]
  },
  {
   "cell_type": "code",
   "execution_count": null,
   "metadata": {},
   "outputs": [],
   "source": []
  }
 ],
 "metadata": {
  "kernelspec": {
   "display_name": "Python 3",
   "language": "python",
   "name": "python3"
  },
  "language_info": {
   "codemirror_mode": {
    "name": "ipython",
    "version": 3
   },
   "file_extension": ".py",
   "mimetype": "text/x-python",
   "name": "python",
   "nbconvert_exporter": "python",
   "pygments_lexer": "ipython3",
   "version": "3.7.3"
  }
 },
 "nbformat": 4,
 "nbformat_minor": 2
}
