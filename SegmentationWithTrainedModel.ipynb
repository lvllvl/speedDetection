{
 "cells": [
  {
   "cell_type": "code",
   "execution_count": 1,
   "metadata": {},
   "outputs": [],
   "source": [
    "%reload_ext autoreload\n",
    "%autoreload 2\n",
    "%matplotlib inline"
   ]
  },
  {
   "cell_type": "code",
   "execution_count": 2,
   "metadata": {},
   "outputs": [],
   "source": [
    "from fastai.vision import *\n",
    "from fastai.callbacks.hooks import *\n",
    "from fastai.utils.mem import *"
   ]
  },
  {
   "cell_type": "code",
   "execution_count": 3,
   "metadata": {},
   "outputs": [],
   "source": [
    "camvid = untar_data(URLs.CAMVID)\n",
    "path_lbl = camvid/'labels'\n",
    "path_img = camvid/'images'\n",
    "path_vidFrames = camvid/'commaImages'\n",
    "\n",
    "# All commaAI images that are segmented are going to be in here \n",
    "path_Predicted = camvid/'predictedImages'"
   ]
  },
  {
   "cell_type": "code",
   "execution_count": 4,
   "metadata": {},
   "outputs": [
    {
     "data": {
      "text/plain": [
       "[PosixPath('/home/jupyter/.fastai/data/camvid/predictedImages'),\n",
       " PosixPath('/home/jupyter/.fastai/data/camvid/export.pkl'),\n",
       " PosixPath('/home/jupyter/.fastai/data/camvid/images'),\n",
       " PosixPath('/home/jupyter/.fastai/data/camvid/codes.txt'),\n",
       " PosixPath('/home/jupyter/.fastai/data/camvid/labels'),\n",
       " PosixPath('/home/jupyter/.fastai/data/camvid/base92.pkl'),\n",
       " PosixPath('/home/jupyter/.fastai/data/camvid/valid.txt'),\n",
       " PosixPath('/home/jupyter/.fastai/data/camvid/commaImages')]"
      ]
     },
     "execution_count": 4,
     "metadata": {},
     "output_type": "execute_result"
    }
   ],
   "source": [
    "camvid.ls()"
   ]
  },
  {
   "cell_type": "markdown",
   "metadata": {},
   "source": [
    "# Video (train.mp4) to frames.jpg\n",
    "\n",
    "- Use this only if you want to create new images\n",
    "- Remember to check WHERE your images are being saved"
   ]
  },
  {
   "cell_type": "code",
   "execution_count": 6,
   "metadata": {},
   "outputs": [],
   "source": [
    "# import cv2\n",
    "# vidcap = cv2.VideoCapture('/home/jupyter/.fastai/data/camvid/commaImages/train.mp4')\n",
    "\n",
    "#/home/jupyter/.fastai/data/camvid/commaImages\n",
    "\n",
    "# success,image = vidcap.read()\n",
    "\n",
    "# count = 0\n",
    "\n",
    "# while success:\n",
    "#     # save frame as jpg file\n",
    "#     cv2.imwrite(\"frame%d.jpg\" % count, image)\n",
    "\n",
    "#     success, image = vidcap.read()\n",
    "#     \n",
    "#     if count % 1000 == 0 or count == 20400:\n",
    "#         print(\"read a new frame: \", success)\n",
    "#     count += 1\n",
    "\n",
    "# /home/jupyter/.fastai/data/commaImages"
   ]
  },
  {
   "cell_type": "markdown",
   "metadata": {},
   "source": [
    "# Data Prep, continued"
   ]
  },
  {
   "cell_type": "code",
   "execution_count": 5,
   "metadata": {},
   "outputs": [
    {
     "data": {
      "text/plain": [
       "array(['Animal', 'Archway', 'Bicyclist', 'Bridge', 'Building', 'Car', 'CartLuggagePram', 'Child', 'Column_Pole',\n",
       "       'Fence', 'LaneMkgsDriv', 'LaneMkgsNonDriv', 'Misc_Text', 'MotorcycleScooter', 'OtherMoving', 'ParkingBlock',\n",
       "       'Pedestrian', 'Road', 'RoadShoulder', 'Sidewalk', 'SignSymbol', 'Sky', 'SUVPickupTruck', 'TrafficCone',\n",
       "       'TrafficLight', 'Train', 'Tree', 'Truck_Bus', 'Tunnel', 'VegetationMisc', 'Void', 'Wall'], dtype='<U17')"
      ]
     },
     "execution_count": 5,
     "metadata": {},
     "output_type": "execute_result"
    }
   ],
   "source": [
    "codes = np.loadtxt(camvid/'codes.txt', dtype=str);  codes"
   ]
  },
  {
   "cell_type": "code",
   "execution_count": 6,
   "metadata": {},
   "outputs": [
    {
     "data": {
      "text/plain": [
       "{'Animal': 0,\n",
       " 'Archway': 1,\n",
       " 'Bicyclist': 2,\n",
       " 'Bridge': 3,\n",
       " 'Building': 4,\n",
       " 'Car': 5,\n",
       " 'CartLuggagePram': 6,\n",
       " 'Child': 7,\n",
       " 'Column_Pole': 8,\n",
       " 'Fence': 9,\n",
       " 'LaneMkgsDriv': 10,\n",
       " 'LaneMkgsNonDriv': 11,\n",
       " 'Misc_Text': 12,\n",
       " 'MotorcycleScooter': 13,\n",
       " 'OtherMoving': 14,\n",
       " 'ParkingBlock': 15,\n",
       " 'Pedestrian': 16,\n",
       " 'Road': 17,\n",
       " 'RoadShoulder': 18,\n",
       " 'Sidewalk': 19,\n",
       " 'SignSymbol': 20,\n",
       " 'Sky': 21,\n",
       " 'SUVPickupTruck': 22,\n",
       " 'TrafficCone': 23,\n",
       " 'TrafficLight': 24,\n",
       " 'Train': 25,\n",
       " 'Tree': 26,\n",
       " 'Truck_Bus': 27,\n",
       " 'Tunnel': 28,\n",
       " 'VegetationMisc': 29,\n",
       " 'Void': 30,\n",
       " 'Wall': 31}"
      ]
     },
     "execution_count": 6,
     "metadata": {},
     "output_type": "execute_result"
    }
   ],
   "source": [
    "import skimage\n",
    "import time\n",
    "\n",
    "get_y_fn = lambda x: path_lbl/f'{x.stem}_P{x.suffix}'\n",
    "\n",
    "name2id = {v:k for k,v in enumerate(codes)}; name2id"
   ]
  },
  {
   "cell_type": "code",
   "execution_count": 7,
   "metadata": {},
   "outputs": [],
   "source": [
    "void_code = name2id['Void']\n",
    "\n",
    "def acc_camvid(input, target):\n",
    "    target = target.squeeze(1)\n",
    "    mask = target != void_code\n",
    "    return (input.argmax(dim=1)[mask] == target[mask]).float().mean()"
   ]
  },
  {
   "cell_type": "code",
   "execution_count": 8,
   "metadata": {},
   "outputs": [],
   "source": [
    "# Get images file names created from CommaAi video\n",
    "frames = get_image_files(path_vidFrames)"
   ]
  },
  {
   "cell_type": "markdown",
   "metadata": {},
   "source": [
    "# Load learner, predict images from frames"
   ]
  },
  {
   "cell_type": "code",
   "execution_count": 9,
   "metadata": {},
   "outputs": [],
   "source": [
    "# Loading a previously trained model for segmentation\n",
    "learn= load_learner(camvid)"
   ]
  },
  {
   "cell_type": "code",
   "execution_count": 10,
   "metadata": {},
   "outputs": [],
   "source": [
    "# Get image files from \n",
    "frames = get_image_files(path_vidFrames)"
   ]
  },
  {
   "cell_type": "code",
   "execution_count": 11,
   "metadata": {},
   "outputs": [
    {
     "data": {
      "text/plain": [
       "20400"
      ]
     },
     "execution_count": 11,
     "metadata": {},
     "output_type": "execute_result"
    }
   ],
   "source": [
    "len(frames)"
   ]
  },
  {
   "cell_type": "code",
   "execution_count": 18,
   "metadata": {},
   "outputs": [],
   "source": [
    "# img = open_image(path_vidFrames/'frame1015.jpg')"
   ]
  },
  {
   "cell_type": "code",
   "execution_count": null,
   "metadata": {},
   "outputs": [],
   "source": [
    "count = 200\n",
    "arr = []\n",
    "while count < 205:\n",
    "    img = open_image(path_vidFrames/f'frame{count}.jpg')\n",
    "    \n",
    "    # Crop the TOP and BOTTOM of images (top is just sky, bottom is dashboard)\n",
    "    crop_pad(img, (390,640), 'border', 0.,0.).show()\n",
    "\n",
    "    # Alter the BRIGHTNESS\n",
    "    brightness(img, 0.71)\n",
    "\n",
    "    pred = learn.predict(img)\n",
    "    pred[0].show(figsize=(10,10))\n",
    "    \n",
    "    # *** Figure out how to store the segmented images...Array, .jpg?\n",
    "    # Save the image in a FOLDER or ARRAY\n",
    "    arr.append(pred)\n",
    "    \n",
    "    # Increase count, move on to next image\n",
    "    count += 1"
   ]
  },
  {
   "cell_type": "markdown",
   "metadata": {},
   "source": [
    "### Use this to view your SEGMENTED images"
   ]
  },
  {
   "cell_type": "code",
   "execution_count": null,
   "metadata": {},
   "outputs": [],
   "source": [
    "# for i in arr:\n",
    "#     print(i[0].show(figsize=(10,10)))"
   ]
  },
  {
   "cell_type": "code",
   "execution_count": null,
   "metadata": {},
   "outputs": [],
   "source": []
  }
 ],
 "metadata": {
  "kernelspec": {
   "display_name": "Python 3",
   "language": "python",
   "name": "python3"
  },
  "language_info": {
   "codemirror_mode": {
    "name": "ipython",
    "version": 3
   },
   "file_extension": ".py",
   "mimetype": "text/x-python",
   "name": "python",
   "nbconvert_exporter": "python",
   "pygments_lexer": "ipython3",
   "version": "3.7.3"
  }
 },
 "nbformat": 4,
 "nbformat_minor": 2
}
