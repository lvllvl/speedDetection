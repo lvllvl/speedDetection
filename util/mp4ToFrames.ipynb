{
 "cells": [
  {
   "cell_type": "code",
   "execution_count": 1,
   "metadata": {},
   "outputs": [],
   "source": [
    "%reload_ext autoreload\n",
    "%autoreload 2\n",
    "%matplotlib inline"
   ]
  },
  {
   "cell_type": "code",
   "execution_count": 2,
   "metadata": {},
   "outputs": [],
   "source": [
    "from fastai.vision import *\n",
    "from fastai.callbacks.hooks import *\n",
    "from fastai.utils.mem import *\n",
    "\n",
    "\n",
    "from PIL import Image\n",
    "from numpy import array\n",
    "\n",
    "import skimage\n",
    "import time"
   ]
  },
  {
   "cell_type": "code",
   "execution_count": 4,
   "metadata": {},
   "outputs": [],
   "source": [
    "camvid = untar_data(URLs.CAMVID)\n",
    "path_lbl = camvid/'labels'\n",
    "path_img = camvid/'images'\n",
    "path_vidFrames = camvid/'commaImages'\n",
    "\n",
    "# All commaAI images that are segmented are going to be in here \n",
    "path_Predicted = camvid/'predictedImages'"
   ]
  },
  {
   "cell_type": "code",
   "execution_count": 6,
   "metadata": {},
   "outputs": [
    {
     "data": {
      "text/plain": [
       "[PosixPath('/home/jupyter/.fastai/data/camvid/predictedImages'),\n",
       " PosixPath('/home/jupyter/.fastai/data/camvid/export.pkl'),\n",
       " PosixPath('/home/jupyter/.fastai/data/camvid/images'),\n",
       " PosixPath('/home/jupyter/.fastai/data/camvid/codes.txt'),\n",
       " PosixPath('/home/jupyter/.fastai/data/camvid/labels'),\n",
       " PosixPath('/home/jupyter/.fastai/data/camvid/base92.pkl'),\n",
       " PosixPath('/home/jupyter/.fastai/data/camvid/valid.txt'),\n",
       " PosixPath('/home/jupyter/.fastai/data/camvid/commaImages')]"
      ]
     },
     "execution_count": 6,
     "metadata": {},
     "output_type": "execute_result"
    }
   ],
   "source": [
    "camvid.ls()"
   ]
  },
  {
   "cell_type": "markdown",
   "metadata": {},
   "source": [
    "# Video (train.mp4) to frames.jpg\n",
    "\n",
    "- Use this only if you want to create new images\n",
    "- Remember to check WHERE your images are being saved"
   ]
  },
  {
   "cell_type": "code",
   "execution_count": 5,
   "metadata": {},
   "outputs": [],
   "source": [
    "# import cv2\n",
    "# vidcap = cv2.VideoCapture('/home/jupyter/.fastai/data/camvid/commaImages/train.mp4')\n",
    "\n",
    "#/home/jupyter/.fastai/data/camvid/commaImages\n",
    "\n",
    "# success,image = vidcap.read()\n",
    "\n",
    "# count = 0\n",
    "\n",
    "# while success:\n",
    "#     # save frame as jpg file\n",
    "#     cv2.imwrite(\"frame%d.jpg\" % count, image)\n",
    "\n",
    "#     success, image = vidcap.read()\n",
    "#     \n",
    "#     if count % 1000 == 0 or count == 20400:\n",
    "#         print(\"read a new frame: \", success)\n",
    "#     count += 1\n",
    "\n",
    "# /home/jupyter/.fastai/data/commaImages"
   ]
  },
  {
   "cell_type": "code",
   "execution_count": null,
   "metadata": {},
   "outputs": [],
   "source": []
  }
 ],
 "metadata": {
  "kernelspec": {
   "display_name": "Python 3",
   "language": "python",
   "name": "python3"
  },
  "language_info": {
   "codemirror_mode": {
    "name": "ipython",
    "version": 3
   },
   "file_extension": ".py",
   "mimetype": "text/x-python",
   "name": "python",
   "nbconvert_exporter": "python",
   "pygments_lexer": "ipython3",
   "version": "3.7.3"
  }
 },
 "nbformat": 4,
 "nbformat_minor": 2
}
